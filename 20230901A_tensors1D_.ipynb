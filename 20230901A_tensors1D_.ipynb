{
 "cells": [
  {
   "cell_type": "markdown",
   "metadata": {},
   "source": [
    "# Objetivo\n",
    "### Conocer el funcionamiento de los tensores en PyTorch y sus operaciones"
   ]
  },
  {
   "cell_type": "markdown",
   "metadata": {},
   "source": [
    "### Table of contents\n",
    "1. Types and Shape\n",
    "2. Indexing and Slicing\n",
    "3. Tensor Functions\n",
    "4. Tensor Operations\n",
    "5. Device_Op Operations"
   ]
  },
  {
   "cell_type": "markdown",
   "metadata": {},
   "source": [
    "### Preparation\n",
    "Import the required libraries for this lab"
   ]
  },
  {
   "cell_type": "code",
   "execution_count": 4,
   "metadata": {},
   "outputs": [
    {
     "name": "stdout",
     "output_type": "stream",
     "text": [
      "Requirement already satisfied: torch in /home/xamanek/.virtual_envs/AI_engineer/lib/python3.10/site-packages (2.0.1)\n",
      "Requirement already satisfied: torchvision in /home/xamanek/.virtual_envs/AI_engineer/lib/python3.10/site-packages (0.15.2)\n",
      "Requirement already satisfied: torchaudio in /home/xamanek/.virtual_envs/AI_engineer/lib/python3.10/site-packages (2.0.2)\n",
      "Requirement already satisfied: filelock in /home/xamanek/.virtual_envs/AI_engineer/lib/python3.10/site-packages (from torch) (3.12.3)\n",
      "Requirement already satisfied: typing-extensions in /home/xamanek/.virtual_envs/AI_engineer/lib/python3.10/site-packages (from torch) (4.7.1)\n",
      "Requirement already satisfied: sympy in /home/xamanek/.virtual_envs/AI_engineer/lib/python3.10/site-packages (from torch) (1.12)\n",
      "Requirement already satisfied: networkx in /home/xamanek/.virtual_envs/AI_engineer/lib/python3.10/site-packages (from torch) (3.1)\n",
      "Requirement already satisfied: jinja2 in /home/xamanek/.virtual_envs/AI_engineer/lib/python3.10/site-packages (from torch) (3.1.2)\n",
      "Requirement already satisfied: nvidia-cuda-nvrtc-cu11==11.7.99 in /home/xamanek/.virtual_envs/AI_engineer/lib/python3.10/site-packages (from torch) (11.7.99)\n",
      "Requirement already satisfied: nvidia-cuda-runtime-cu11==11.7.99 in /home/xamanek/.virtual_envs/AI_engineer/lib/python3.10/site-packages (from torch) (11.7.99)\n",
      "Requirement already satisfied: nvidia-cuda-cupti-cu11==11.7.101 in /home/xamanek/.virtual_envs/AI_engineer/lib/python3.10/site-packages (from torch) (11.7.101)\n",
      "Requirement already satisfied: nvidia-cudnn-cu11==8.5.0.96 in /home/xamanek/.virtual_envs/AI_engineer/lib/python3.10/site-packages (from torch) (8.5.0.96)\n",
      "Requirement already satisfied: nvidia-cublas-cu11==11.10.3.66 in /home/xamanek/.virtual_envs/AI_engineer/lib/python3.10/site-packages (from torch) (11.10.3.66)\n",
      "Requirement already satisfied: nvidia-cufft-cu11==10.9.0.58 in /home/xamanek/.virtual_envs/AI_engineer/lib/python3.10/site-packages (from torch) (10.9.0.58)\n",
      "Requirement already satisfied: nvidia-curand-cu11==10.2.10.91 in /home/xamanek/.virtual_envs/AI_engineer/lib/python3.10/site-packages (from torch) (10.2.10.91)\n",
      "Requirement already satisfied: nvidia-cusolver-cu11==11.4.0.1 in /home/xamanek/.virtual_envs/AI_engineer/lib/python3.10/site-packages (from torch) (11.4.0.1)\n",
      "Requirement already satisfied: nvidia-cusparse-cu11==11.7.4.91 in /home/xamanek/.virtual_envs/AI_engineer/lib/python3.10/site-packages (from torch) (11.7.4.91)\n",
      "Requirement already satisfied: nvidia-nccl-cu11==2.14.3 in /home/xamanek/.virtual_envs/AI_engineer/lib/python3.10/site-packages (from torch) (2.14.3)\n",
      "Requirement already satisfied: nvidia-nvtx-cu11==11.7.91 in /home/xamanek/.virtual_envs/AI_engineer/lib/python3.10/site-packages (from torch) (11.7.91)\n",
      "Requirement already satisfied: triton==2.0.0 in /home/xamanek/.virtual_envs/AI_engineer/lib/python3.10/site-packages (from torch) (2.0.0)\n",
      "Requirement already satisfied: setuptools in /home/xamanek/.virtual_envs/AI_engineer/lib/python3.10/site-packages (from nvidia-cublas-cu11==11.10.3.66->torch) (68.1.2)\n",
      "Requirement already satisfied: wheel in /home/xamanek/.virtual_envs/AI_engineer/lib/python3.10/site-packages (from nvidia-cublas-cu11==11.10.3.66->torch) (0.41.2)\n",
      "Requirement already satisfied: cmake in /home/xamanek/.virtual_envs/AI_engineer/lib/python3.10/site-packages (from triton==2.0.0->torch) (3.27.2)\n",
      "Requirement already satisfied: lit in /home/xamanek/.virtual_envs/AI_engineer/lib/python3.10/site-packages (from triton==2.0.0->torch) (16.0.6)\n",
      "Requirement already satisfied: numpy in /home/xamanek/.virtual_envs/AI_engineer/lib/python3.10/site-packages (from torchvision) (1.25.2)\n",
      "Requirement already satisfied: requests in /home/xamanek/.virtual_envs/AI_engineer/lib/python3.10/site-packages (from torchvision) (2.31.0)\n",
      "Requirement already satisfied: pillow!=8.3.*,>=5.3.0 in /home/xamanek/.virtual_envs/AI_engineer/lib/python3.10/site-packages (from torchvision) (10.0.0)\n",
      "Requirement already satisfied: MarkupSafe>=2.0 in /home/xamanek/.virtual_envs/AI_engineer/lib/python3.10/site-packages (from jinja2->torch) (2.1.3)\n",
      "Requirement already satisfied: charset-normalizer<4,>=2 in /home/xamanek/.virtual_envs/AI_engineer/lib/python3.10/site-packages (from requests->torchvision) (3.2.0)\n",
      "Requirement already satisfied: idna<4,>=2.5 in /home/xamanek/.virtual_envs/AI_engineer/lib/python3.10/site-packages (from requests->torchvision) (3.4)\n",
      "Requirement already satisfied: urllib3<3,>=1.21.1 in /home/xamanek/.virtual_envs/AI_engineer/lib/python3.10/site-packages (from requests->torchvision) (2.0.4)\n",
      "Requirement already satisfied: certifi>=2017.4.17 in /home/xamanek/.virtual_envs/AI_engineer/lib/python3.10/site-packages (from requests->torchvision) (2023.7.22)\n",
      "Requirement already satisfied: mpmath>=0.19 in /home/xamanek/.virtual_envs/AI_engineer/lib/python3.10/site-packages (from sympy->torch) (1.3.0)\n",
      "Note: you may need to restart the kernel to use updated packages.\n",
      "Requirement already satisfied: numpy in /home/xamanek/.virtual_envs/AI_engineer/lib/python3.10/site-packages (1.25.2)\n",
      "Note: you may need to restart the kernel to use updated packages.\n",
      "Requirement already satisfied: pandas in /home/xamanek/.virtual_envs/AI_engineer/lib/python3.10/site-packages (2.1.0)\n",
      "Requirement already satisfied: numpy>=1.22.4 in /home/xamanek/.virtual_envs/AI_engineer/lib/python3.10/site-packages (from pandas) (1.25.2)\n",
      "Requirement already satisfied: python-dateutil>=2.8.2 in /home/xamanek/.virtual_envs/AI_engineer/lib/python3.10/site-packages (from pandas) (2.8.2)\n",
      "Requirement already satisfied: pytz>=2020.1 in /home/xamanek/.virtual_envs/AI_engineer/lib/python3.10/site-packages (from pandas) (2023.3)\n",
      "Requirement already satisfied: tzdata>=2022.1 in /home/xamanek/.virtual_envs/AI_engineer/lib/python3.10/site-packages (from pandas) (2023.3)\n",
      "Requirement already satisfied: six>=1.5 in /home/xamanek/.virtual_envs/AI_engineer/lib/python3.10/site-packages (from python-dateutil>=2.8.2->pandas) (1.16.0)\n",
      "Note: you may need to restart the kernel to use updated packages.\n",
      "Collecting matplotlib\n",
      "  Obtaining dependency information for matplotlib from https://files.pythonhosted.org/packages/c2/da/a5622266952ab05dc3995d77689cba600e49ea9d6c51d469c077695cb719/matplotlib-3.7.2-cp310-cp310-manylinux_2_17_x86_64.manylinux2014_x86_64.whl.metadata\n",
      "  Downloading matplotlib-3.7.2-cp310-cp310-manylinux_2_17_x86_64.manylinux2014_x86_64.whl.metadata (5.6 kB)\n",
      "Collecting contourpy>=1.0.1 (from matplotlib)\n",
      "  Obtaining dependency information for contourpy>=1.0.1 from https://files.pythonhosted.org/packages/aa/55/02c6d24804592b862b38a85c9b3283edc245081390a520ccd11697b6b24f/contourpy-1.1.0-cp310-cp310-manylinux_2_17_x86_64.manylinux2014_x86_64.whl.metadata\n",
      "  Downloading contourpy-1.1.0-cp310-cp310-manylinux_2_17_x86_64.manylinux2014_x86_64.whl.metadata (5.7 kB)\n",
      "Collecting cycler>=0.10 (from matplotlib)\n",
      "  Downloading cycler-0.11.0-py3-none-any.whl (6.4 kB)\n",
      "Collecting fonttools>=4.22.0 (from matplotlib)\n",
      "  Obtaining dependency information for fonttools>=4.22.0 from https://files.pythonhosted.org/packages/2b/e8/61b8525acf26ec222518bdff127ae502bfa3408981fb5e5493f2b037d7fb/fonttools-4.42.1-cp310-cp310-manylinux_2_17_x86_64.manylinux2014_x86_64.whl.metadata\n",
      "  Downloading fonttools-4.42.1-cp310-cp310-manylinux_2_17_x86_64.manylinux2014_x86_64.whl.metadata (150 kB)\n",
      "\u001b[2K     \u001b[90m━━━━━━━━━━━━━━━━━━━━━━━━━━━━━━━━━━━━━\u001b[0m \u001b[32m151.0/151.0 kB\u001b[0m \u001b[31m969.6 kB/s\u001b[0m eta \u001b[36m0:00:00\u001b[0ma \u001b[36m0:00:01\u001b[0m\n",
      "\u001b[?25hCollecting kiwisolver>=1.0.1 (from matplotlib)\n",
      "  Obtaining dependency information for kiwisolver>=1.0.1 from https://files.pythonhosted.org/packages/6f/40/4ab1fdb57fced80ce5903f04ae1aed7c1d5939dda4fd0c0aa526c12fe28a/kiwisolver-1.4.5-cp310-cp310-manylinux_2_12_x86_64.manylinux2010_x86_64.whl.metadata\n",
      "  Downloading kiwisolver-1.4.5-cp310-cp310-manylinux_2_12_x86_64.manylinux2010_x86_64.whl.metadata (6.4 kB)\n",
      "Requirement already satisfied: numpy>=1.20 in /home/xamanek/.virtual_envs/AI_engineer/lib/python3.10/site-packages (from matplotlib) (1.25.2)\n",
      "Requirement already satisfied: packaging>=20.0 in /home/xamanek/.virtual_envs/AI_engineer/lib/python3.10/site-packages (from matplotlib) (23.1)\n",
      "Requirement already satisfied: pillow>=6.2.0 in /home/xamanek/.virtual_envs/AI_engineer/lib/python3.10/site-packages (from matplotlib) (10.0.0)\n",
      "Collecting pyparsing<3.1,>=2.3.1 (from matplotlib)\n",
      "  Downloading pyparsing-3.0.9-py3-none-any.whl (98 kB)\n",
      "\u001b[2K     \u001b[90m━━━━━━━━━━━━━━━━━━━━━━━━━━━━━━━━━━━━━━━━\u001b[0m \u001b[32m98.3/98.3 kB\u001b[0m \u001b[31m5.5 MB/s\u001b[0m eta \u001b[36m0:00:00\u001b[0m\n",
      "\u001b[?25hRequirement already satisfied: python-dateutil>=2.7 in /home/xamanek/.virtual_envs/AI_engineer/lib/python3.10/site-packages (from matplotlib) (2.8.2)\n",
      "Requirement already satisfied: six>=1.5 in /home/xamanek/.virtual_envs/AI_engineer/lib/python3.10/site-packages (from python-dateutil>=2.7->matplotlib) (1.16.0)\n",
      "Downloading matplotlib-3.7.2-cp310-cp310-manylinux_2_17_x86_64.manylinux2014_x86_64.whl (11.6 MB)\n",
      "\u001b[2K   \u001b[90m━━━━━━━━━━━━━━━━━━━━━━━━━━━━━━━━━━━━━━━━\u001b[0m \u001b[32m11.6/11.6 MB\u001b[0m \u001b[31m7.2 MB/s\u001b[0m eta \u001b[36m0:00:00\u001b[0m00:01\u001b[0m00:01\u001b[0m\n",
      "\u001b[?25hDownloading contourpy-1.1.0-cp310-cp310-manylinux_2_17_x86_64.manylinux2014_x86_64.whl (300 kB)\n",
      "\u001b[2K   \u001b[90m━━━━━━━━━━━━━━━━━━━━━━━━━━━━━━━━━━━━━━━━\u001b[0m \u001b[32m300.7/300.7 kB\u001b[0m \u001b[31m7.2 MB/s\u001b[0m eta \u001b[36m0:00:00\u001b[0ma \u001b[36m0:00:01\u001b[0m\n",
      "\u001b[?25hDownloading fonttools-4.42.1-cp310-cp310-manylinux_2_17_x86_64.manylinux2014_x86_64.whl (4.5 MB)\n",
      "\u001b[2K   \u001b[90m━━━━━━━━━━━━━━━━━━━━━━━━━━━━━━━━━━━━━━━━\u001b[0m \u001b[32m4.5/4.5 MB\u001b[0m \u001b[31m6.5 MB/s\u001b[0m eta \u001b[36m0:00:00\u001b[0m00:01\u001b[0m00:01\u001b[0m\n",
      "\u001b[?25hDownloading kiwisolver-1.4.5-cp310-cp310-manylinux_2_12_x86_64.manylinux2010_x86_64.whl (1.6 MB)\n",
      "\u001b[2K   \u001b[90m━━━━━━━━━━━━━━━━━━━━━━━━━━━━━━━━━━━━━━━━\u001b[0m \u001b[32m1.6/1.6 MB\u001b[0m \u001b[31m6.8 MB/s\u001b[0m eta \u001b[36m0:00:00\u001b[0ma \u001b[36m0:00:01\u001b[0m\n",
      "\u001b[?25hInstalling collected packages: pyparsing, kiwisolver, fonttools, cycler, contourpy, matplotlib\n",
      "Successfully installed contourpy-1.1.0 cycler-0.11.0 fonttools-4.42.1 kiwisolver-1.4.5 matplotlib-3.7.2 pyparsing-3.0.9\n",
      "Note: you may need to restart the kernel to use updated packages.\n"
     ]
    }
   ],
   "source": [
    "%pip install torch torchvision torchaudio\n",
    "%pip install numpy\n",
    "%pip install pandas\n",
    "%pip install matplotlib"
   ]
  },
  {
   "cell_type": "code",
   "execution_count": 5,
   "metadata": {},
   "outputs": [],
   "source": [
    "import torch\n",
    "import numpy as np\n",
    "import pandas as pd\n",
    "\n",
    "import matplotlib.pyplot as plt\n",
    "%matplotlib inline"
   ]
  },
  {
   "cell_type": "markdown",
   "metadata": {},
   "source": [
    "PyTorch version"
   ]
  },
  {
   "cell_type": "code",
   "execution_count": 6,
   "metadata": {},
   "outputs": [
    {
     "data": {
      "text/plain": [
       "'2.0.1+cu117'"
      ]
     },
     "execution_count": 6,
     "metadata": {},
     "output_type": "execute_result"
    }
   ],
   "source": [
    "torch.__version__"
   ]
  },
  {
   "cell_type": "markdown",
   "metadata": {},
   "source": [
    "Define the function to plot diagrams, will be used to plot the vectors in a Coordinate System"
   ]
  },
  {
   "cell_type": "code",
   "execution_count": 7,
   "metadata": {},
   "outputs": [],
   "source": [
    "# Plot vectors, keep the parameters in the same length\n",
    "# @param: Vectors = [ { \"vector\": vector variable, \"name\": name of vector, \"color\": color of the vector on diagram } ]\n",
    "\n",
    "def plotVec( vectors ):\n",
    "  ax = plt.axes()\n",
    "\n",
    "  # For loop to draw the vectors\n",
    "  for vec in vectors:\n",
    "    ax.arrow( 0, 0, *vec[ \"vector\" ], head_width = 0.05, color = vec[ \"color\" ], head_length = 0.1 )\n",
    "    plt.text( *( vec[ \"vector\" ] + 0.1), vec[ \"name\" ] )\n",
    "\n",
    "  plt.ylim( -2, 2 )\n",
    "  plt.xlim( -2, 2 )"
   ]
  },
  {
   "cell_type": "markdown",
   "metadata": {},
   "source": [
    "### Types and Shape\n",
    "We can find the type of the following list of integers [0, 1, 2, 3, 4] by applying the constructor torch.tensor():"
   ]
  },
  {
   "cell_type": "code",
   "execution_count": 8,
   "metadata": {},
   "outputs": [
    {
     "name": "stdout",
     "output_type": "stream",
     "text": [
      "The dtype of tensor object after converting it to tensor:  torch.int64\n",
      "The type of tensor object after converting it to tensor:  torch.LongTensor\n"
     ]
    }
   ],
   "source": [
    "# Convert a integer list with length 5 to a tensor\n",
    "\n",
    "ints_to_tensor = torch.tensor( [ 0, 1, 2, 3, 4 ] )\n",
    "print( \"The dtype of tensor object after converting it to tensor: \", ints_to_tensor.dtype )\n",
    "print( \"The type of tensor object after converting it to tensor: \", ints_to_tensor.type() )"
   ]
  },
  {
   "cell_type": "markdown",
   "metadata": {},
   "source": [
    "Python type is still torhc.Tensor"
   ]
  },
  {
   "cell_type": "code",
   "execution_count": 9,
   "metadata": {},
   "outputs": [
    {
     "data": {
      "text/plain": [
       "torch.Tensor"
      ]
     },
     "execution_count": 9,
     "metadata": {},
     "output_type": "execute_result"
    }
   ],
   "source": [
    "type(ints_to_tensor)"
   ]
  },
  {
   "cell_type": "markdown",
   "metadata": {},
   "source": [
    "Find the type of this float list [0.0, 1.0, 2.0, 3.0, 4.0] by applying the method torch.tensor():"
   ]
  },
  {
   "cell_type": "code",
   "execution_count": 10,
   "metadata": {},
   "outputs": [
    {
     "name": "stdout",
     "output_type": "stream",
     "text": [
      "The dtype of tensor object after converting it to tensor:  torch.float32\n",
      "The type of tensor object after converting it to tensor:  torch.FloatTensor\n"
     ]
    }
   ],
   "source": [
    "# Convert a float list with length of 5 to a tensor\n",
    "\n",
    "floats_to_tensor = torch.tensor( [ 0.0, 1.0, 2.0, 3.0, 4.0 ] )\n",
    "print( \"The dtype of tensor object after converting it to tensor: \", floats_to_tensor.dtype)\n",
    "print( \"The type of tensor object after converting it to tensor: \", floats_to_tensor.type() )"
   ]
  },
  {
   "cell_type": "markdown",
   "metadata": {},
   "source": [
    "It can be defined the dtype of a torch Tensor via the constructor, using \"dtype = \", for example, let us try to define a tensor with a float type:"
   ]
  },
  {
   "cell_type": "code",
   "execution_count": 11,
   "metadata": {},
   "outputs": [
    {
     "name": "stdout",
     "output_type": "stream",
     "text": [
      "The dtype of tensor object is:  torch.int64\n",
      "The type of tensor object is:  torch.LongTensor\n"
     ]
    }
   ],
   "source": [
    "list_floats = [ 0.0, 1.0, 2.0, 3.0, 4.0 ]\n",
    "\n",
    "floats_int_tensor = torch.tensor( list_floats, dtype = torch.int64 )\n",
    "\n",
    "print( \"The dtype of tensor object is: \", floats_int_tensor.dtype )\n",
    "print( \"The type of tensor object is: \", floats_int_tensor.type() )"
   ]
  },
  {
   "cell_type": "markdown",
   "metadata": {},
   "source": []
  },
  {
   "cell_type": "code",
   "execution_count": 13,
   "metadata": {},
   "outputs": [
    {
     "name": "stdout",
     "output_type": "stream",
     "text": [
      "The type of the new_float_tensor:  torch.FloatTensor\n"
     ]
    }
   ],
   "source": [
    "# Convert a integer list with length 5 to float tensor\n",
    "\n",
    "new_float_tensor = torch.FloatTensor( [ 0, 1, 2, 3, 4 ] )\n",
    "new_float_tensor.type()\n",
    "print( \"The type of the new_float_tensor: \", new_float_tensor.type() )"
   ]
  },
  {
   "cell_type": "markdown",
   "metadata": {},
   "source": [
    "An existing tensor object can also be converted to another tensor type."
   ]
  },
  {
   "cell_type": "code",
   "execution_count": 14,
   "metadata": {},
   "outputs": [
    {
     "name": "stdout",
     "output_type": "stream",
     "text": [
      "The type of the new_float_tensor:  torch.FloatTensor\n"
     ]
    }
   ],
   "source": [
    "# Another method to convert the integer list to float tensor\n",
    "\n",
    "old_int_tensor = torch.tensor( [ 0, 1, 2, 3, 4 ] )\n",
    "new_float_tensor = old_int_tensor.type( torch.FloatTensor )\n",
    "print( \"The type of the new_float_tensor: \", new_float_tensor.type() )"
   ]
  },
  {
   "cell_type": "markdown",
   "metadata": {},
   "source": [
    "The method tensor_obj.size() helps you find out the size of the tensor_obj.\n",
    "The method tensor_obj.ndimension() shows the dimension of the tensor object."
   ]
  },
  {
   "cell_type": "code",
   "execution_count": 15,
   "metadata": {},
   "outputs": [
    {
     "name": "stdout",
     "output_type": "stream",
     "text": [
      "The size of the new_float_tensor:  torch.Size([5])\n",
      "The dimension of the new_float_tensor:  1\n"
     ]
    }
   ],
   "source": [
    "# Introduce the tensor_obj.size() & .tensor_ndimension() methods\n",
    "\n",
    "print( \"The size of the new_float_tensor: \", new_float_tensor.size() )\n",
    "print( \"The dimension of the new_float_tensor: \", new_float_tensor.ndimension() )"
   ]
  },
  {
   "cell_type": "markdown",
   "metadata": {},
   "source": [
    "The tensor_obj.view( row, column ) is used for reshaping a tensor object."
   ]
  },
  {
   "cell_type": "code",
   "execution_count": 17,
   "metadata": {},
   "outputs": [
    {
     "name": "stdout",
     "output_type": "stream",
     "text": [
      "Original Size:  tensor([0., 1., 2., 3., 4.])\n",
      "Size after view method\n",
      " tensor([[0.],\n",
      "        [1.],\n",
      "        [2.],\n",
      "        [3.],\n",
      "        [4.]])\n"
     ]
    }
   ],
   "source": [
    "# Introduce the tensor_obj.view( row, column ) method\n",
    "\n",
    "twoD_float_tensor = new_float_tensor.view( 5, 1 )\n",
    "print( \"Original Size: \", new_float_tensor )\n",
    "print( \"Size after view method\\n\", twoD_float_tensor )"
   ]
  },
  {
   "cell_type": "markdown",
   "metadata": {},
   "source": [
    "Note that the original size is 5, the tensor after reshaping becomes a 5x1 tensor analog to a column vector.\n",
    "\n",
    "Note: The number of elements in a tensor must remain constant after applying view.\n",
    "\n",
    "But what if we have a tensor with dynamic size but we want to reshape it? Use -1 to do just that."
   ]
  },
  {
   "cell_type": "code",
   "execution_count": 18,
   "metadata": {},
   "outputs": [
    {
     "name": "stdout",
     "output_type": "stream",
     "text": [
      "Original size:  tensor([0., 1., 2., 3., 4.])\n",
      "Size after view method\n",
      " tensor([[0.],\n",
      "        [1.],\n",
      "        [2.],\n",
      "        [3.],\n",
      "        [4.]])\n"
     ]
    }
   ],
   "source": [
    "# Introduce the use of -1 in the view( row, column ) method\n",
    "\n",
    "twoD_float_tensor = new_float_tensor.view( -1, 1 )\n",
    "print( \"Original size: \", new_float_tensor )\n",
    "print( \"Size after view method\\n\", twoD_float_tensor )"
   ]
  },
  {
   "cell_type": "markdown",
   "metadata": {},
   "source": [
    "We get the same result as the previous example, the -1 can represent any size. However, be careful as you can set only one argument as -1.\n",
    "\n",
    "It is also possible to convert a numpy array to a tensor, for example:"
   ]
  },
  {
   "cell_type": "code",
   "execution_count": 19,
   "metadata": {},
   "outputs": [
    {
     "name": "stdout",
     "output_type": "stream",
     "text": [
      "The dtype of new tensor:  torch.float64\n",
      "The type of new tensor:  torch.DoubleTensor\n"
     ]
    }
   ],
   "source": [
    "# Convert a numpy array to a tensor\n",
    "\n",
    "numpy_array = np.array( [ 0.0, 1.0, 2.0, 3.0, 4.0 ] )\n",
    "new_tensor = torch.from_numpy( numpy_array )\n",
    "\n",
    "print( \"The dtype of new tensor: \", new_tensor.dtype )\n",
    "print( \"The type of new tensor: \", new_tensor.type() )"
   ]
  },
  {
   "cell_type": "markdown",
   "metadata": {},
   "source": [
    "Converting a tensor to a numpy array is also possible with PyTorch"
   ]
  },
  {
   "cell_type": "code",
   "execution_count": 20,
   "metadata": {},
   "outputs": [
    {
     "name": "stdout",
     "output_type": "stream",
     "text": [
      "The numpy array from tensor:  [0. 1. 2. 3. 4.]\n",
      "The dtype of numpy array:  float64\n"
     ]
    }
   ],
   "source": [
    "# Convert a tensor to a numpy array\n",
    "\n",
    "back_to_numpy = new_tensor.numpy()\n",
    "print( \"The numpy array from tensor: \", back_to_numpy )\n",
    "print( \"The dtype of numpy array: \", back_to_numpy.dtype )"
   ]
  },
  {
   "cell_type": "markdown",
   "metadata": {},
   "source": [
    "\"back_to_numpy\" and \"new_tensor\" still point to \"numpy_array\". As a result if we change an element in \"numpy_array\" both \"back_to_numpy\" and \"new_tensor\" will change. As example, if we set all elements in \"numpy_array\" to zeros, both \"back_to_numpy\" and \"new_tensor\" will follow as well."
   ]
  },
  {
   "cell_type": "code",
   "execution_count": 21,
   "metadata": {},
   "outputs": [
    {
     "name": "stdout",
     "output_type": "stream",
     "text": [
      "The new numpy array:  [0. 0. 0. 0. 0.]\n",
      "The new tensor:  tensor([0., 0., 0., 0., 0.], dtype=torch.float64)\n",
      "The back to numpy array from tensor:  [0. 0. 0. 0. 0.]\n"
     ]
    }
   ],
   "source": [
    "# Set all elements in numpy array to zero\n",
    "\n",
    "numpy_array[:] = 0\n",
    "print( \"The new numpy array: \", numpy_array )\n",
    "print( \"The new tensor: \", new_tensor )\n",
    "print( \"The back to numpy array from tensor: \", back_to_numpy )"
   ]
  },
  {
   "cell_type": "markdown",
   "metadata": {},
   "source": [
    "Pandas Series can also be converted by using the method pandas_series.values, for example:"
   ]
  },
  {
   "cell_type": "code",
   "execution_count": 22,
   "metadata": {},
   "outputs": [
    {
     "name": "stdout",
     "output_type": "stream",
     "text": [
      "The new tensor from numpy array:  tensor([ 0.1000,  2.0000,  0.3000, 10.1000], dtype=torch.float64)\n",
      "The dtype of new tensor:  torch.float64\n",
      "The type of new tensor:  torch.DoubleTensor\n"
     ]
    }
   ],
   "source": [
    "# Convert a panda series to a tensor\n",
    "\n",
    "pandas_series = pd.Series( [ 0.1, 2, 0.3, 10.1 ] )\n",
    "new_tensor = torch.from_numpy( pandas_series.values )\n",
    "print( \"The new tensor from numpy array: \", new_tensor )\n",
    "print( \"The dtype of new tensor: \", new_tensor.dtype )\n",
    "print( \"The type of new tensor: \", new_tensor.type() )"
   ]
  },
  {
   "cell_type": "markdown",
   "metadata": {},
   "source": [
    "Consider the next tensor:"
   ]
  },
  {
   "cell_type": "code",
   "execution_count": 23,
   "metadata": {},
   "outputs": [],
   "source": [
    "this_tensor = torch.tensor( [ 0, 1, 2, 3 ] )"
   ]
  },
  {
   "cell_type": "markdown",
   "metadata": {},
   "source": [
    "The method item() returns the value of this tensor as a standard Python number. This only works for one element."
   ]
  },
  {
   "cell_type": "code",
   "execution_count": 35,
   "metadata": {},
   "outputs": [
    {
     "name": "stdout",
     "output_type": "stream",
     "text": [
      "The first item is given by  0  the first tensor value is given by  tensor(0)\n",
      "The second item is given by  1  the second tensor value is given by  tensor(1)\n",
      "The third item is given by  2  the third tensor value is given by  tensor(2)\n",
      "The fourth item is given by  3  the fourth tensor value is given by  tensor(3)\n"
     ]
    }
   ],
   "source": [
    "print( \"The first item is given by \", this_tensor[0].item(), \" the first tensor value is given by \", this_tensor[0] )\n",
    "\n",
    "print ( \"The second item is given by \", this_tensor[1].item(), \" the second tensor value is given by \", this_tensor[1] )\n",
    "\n",
    "print ( \"The third item is given by \", this_tensor[2].item(), \" the third tensor value is given by \", this_tensor[2] )\n",
    "\n",
    "print ( \"The fourth item is given by \", this_tensor[3].item(), \" the fourth tensor value is given by \", this_tensor[3] )"
   ]
  },
  {
   "cell_type": "markdown",
   "metadata": {},
   "source": [
    "It is possible to use \"tolist()\" method to return a list."
   ]
  },
  {
   "cell_type": "code",
   "execution_count": 26,
   "metadata": {},
   "outputs": [
    {
     "name": "stdout",
     "output_type": "stream",
     "text": [
      "tensor:  tensor([0, 1, 2, 3]) \n",
      "list:  [0, 1, 2, 3]\n"
     ]
    }
   ],
   "source": [
    "torch_to_list = this_tensor.tolist()\n",
    "\n",
    "print( \"tensor: \", this_tensor, \"\\nlist: \", torch_to_list )"
   ]
  },
  {
   "cell_type": "markdown",
   "metadata": {},
   "source": [
    "Practice.\n",
    "\n",
    "Converting \"your_tensor\" to a 1x5 tensor."
   ]
  },
  {
   "cell_type": "code",
   "execution_count": 28,
   "metadata": {},
   "outputs": [
    {
     "name": "stdout",
     "output_type": "stream",
     "text": [
      "Original size:  tensor([1, 2, 3, 4, 5])\n",
      "Size after view method:  tensor([[1, 2, 3, 4, 5]])\n"
     ]
    }
   ],
   "source": [
    "# Practice\n",
    "\n",
    "your_tensor = torch.tensor( [1, 2, 3, 4, 5 ] )\n",
    "\n",
    "new_tensor_ = your_tensor.view( 1, 5 )\n",
    "\n",
    "print( \"Original size: \", your_tensor )\n",
    "print( \"Size after view method: \", new_tensor_ )"
   ]
  },
  {
   "cell_type": "markdown",
   "metadata": {},
   "source": []
  },
  {
   "cell_type": "markdown",
   "metadata": {},
   "source": [
    "# Indexing and Slicing"
   ]
  },
  {
   "cell_type": "markdown",
   "metadata": {},
   "source": [
    "In Python, the index start with 0 (zero). Therefore, the last index will always be 1 less than the length of the tensor object. You can access the value of a certain index by using the square bracket, for example:"
   ]
  },
  {
   "cell_type": "code",
   "execution_count": 29,
   "metadata": {},
   "outputs": [
    {
     "name": "stdout",
     "output_type": "stream",
     "text": [
      "The value on index 0:  tensor(0)\n",
      "The value on index 1:  tensor(1)\n",
      "The value on index 2:  tensor(2)\n",
      "The value on index 3:  tensor(3)\n",
      "The value on index 4:  tensor(4)\n"
     ]
    }
   ],
   "source": [
    "# A tensor for showing how the indexs work on tensors\n",
    "\n",
    "index_tensor = torch.tensor( [ 0, 1, 2, 3, 4 ] )\n",
    "print( \"The value on index 0: \", index_tensor[0] )\n",
    "print( \"The value on index 1: \", index_tensor[1] )\n",
    "print( \"The value on index 2: \", index_tensor[2] )\n",
    "print( \"The value on index 3: \", index_tensor[3] )\n",
    "print( \"The value on index 4: \", index_tensor[4] )"
   ]
  },
  {
   "cell_type": "code",
   "execution_count": 30,
   "metadata": {},
   "outputs": [
    {
     "ename": "IndexError",
     "evalue": "index 5 is out of bounds for dimension 0 with size 5",
     "output_type": "error",
     "traceback": [
      "\u001b[0;31m---------------------------------------------------------------------------\u001b[0m",
      "\u001b[0;31mIndexError\u001b[0m                                Traceback (most recent call last)",
      "Cell \u001b[0;32mIn[30], line 3\u001b[0m\n\u001b[1;32m      1\u001b[0m \u001b[39m# Note that the index_tensor[5] will produce an error\u001b[39;00m\n\u001b[0;32m----> 3\u001b[0m \u001b[39mprint\u001b[39m( \u001b[39m\"\u001b[39m\u001b[39mThe value on index 5: \u001b[39m\u001b[39m\"\u001b[39m, index_tensor[ \u001b[39m5\u001b[39;49m ] )\n",
      "\u001b[0;31mIndexError\u001b[0m: index 5 is out of bounds for dimension 0 with size 5"
     ]
    }
   ],
   "source": [
    "# Note that the index_tensor[5] will produce an error\n",
    "\n",
    "print( \"The value on index 5: \", index_tensor[ 5 ] )"
   ]
  },
  {
   "cell_type": "markdown",
   "metadata": {},
   "source": [
    "It is possible to change the value of a certain index by using the method \"[]\", for example:"
   ]
  },
  {
   "cell_type": "code",
   "execution_count": 36,
   "metadata": {},
   "outputs": [],
   "source": [
    "# A tensor for showing how to change the values on certain indexes\n",
    "\n",
    "tensor_sample = torch.tensor( [ 20, 1, 2, 3, 4 ] )"
   ]
  },
  {
   "cell_type": "markdown",
   "metadata": {},
   "source": [
    "Assigning the value of the first index to 100"
   ]
  },
  {
   "cell_type": "code",
   "execution_count": 37,
   "metadata": {},
   "outputs": [
    {
     "name": "stdout",
     "output_type": "stream",
     "text": [
      "Initial value on index 0:  tensor(20)\n",
      "Modified tensor:  tensor([100,   1,   2,   3,   4])\n"
     ]
    }
   ],
   "source": [
    "# change the value on the index 0 to 100\n",
    "\n",
    "print( \"Initial value on index 0: \" , tensor_sample[0] )\n",
    "tensor_sample[ 0 ] = 100\n",
    "print( \"Modified tensor: \", tensor_sample )"
   ]
  },
  {
   "cell_type": "code",
   "execution_count": 39,
   "metadata": {},
   "outputs": [
    {
     "name": "stdout",
     "output_type": "stream",
     "text": [
      "Initial value on index 4:  tensor(4)\n",
      "Modified tensor:  tensor([100,   1,   2,   3,   0])\n"
     ]
    }
   ],
   "source": [
    "# Change the value on the index 4 to 0 (zero)\n",
    "\n",
    "print(\"Initial value on index 4: \", tensor_sample[4])\n",
    "tensor_sample[4] = 0\n",
    "print(\"Modified tensor: \", tensor_sample)"
   ]
  },
  {
   "cell_type": "markdown",
   "metadata": {},
   "source": [
    "Tensors support the slicing feature of Python lists."
   ]
  },
  {
   "cell_type": "code",
   "execution_count": 40,
   "metadata": {},
   "outputs": [
    {
     "name": "stdout",
     "output_type": "stream",
     "text": [
      "Original tensor sample:  tensor([100,   1,   2,   3,   0])\n",
      "The subset of tensor_sample:  tensor([1, 2, 3])\n"
     ]
    }
   ],
   "source": [
    "# Slice tensor_sample\n",
    "\n",
    "subset_tensor_sample = tensor_sample[1:4]\n",
    "print( \"Original tensor sample: \", tensor_sample)\n",
    "print( \"The subset of tensor_sample: \", subset_tensor_sample )"
   ]
  }
 ],
 "metadata": {
  "kernelspec": {
   "display_name": "Python 3",
   "language": "python",
   "name": "python3"
  },
  "language_info": {
   "codemirror_mode": {
    "name": "ipython",
    "version": 3
   },
   "file_extension": ".py",
   "mimetype": "text/x-python",
   "name": "python",
   "nbconvert_exporter": "python",
   "pygments_lexer": "ipython3",
   "version": "3.10.12"
  },
  "orig_nbformat": 4
 },
 "nbformat": 4,
 "nbformat_minor": 2
}
